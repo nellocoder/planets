{
  "nbformat": 4,
  "nbformat_minor": 0,
  "metadata": {
    "colab": {
      "provenance": [],
      "include_colab_link": true
    },
    "kernelspec": {
      "name": "python3",
      "display_name": "Python 3"
    },
    "language_info": {
      "name": "python"
    }
  },
  "cells": [
    {
      "cell_type": "markdown",
      "metadata": {
        "id": "view-in-github",
        "colab_type": "text"
      },
      "source": [
        "<a href=\"https://colab.research.google.com/github/nellocoder/planets/blob/main/Code_Your_NN_By_Hand.ipynb\" target=\"_parent\"><img src=\"https://colab.research.google.com/assets/colab-badge.svg\" alt=\"Open In Colab\"/></a>"
      ]
    },
    {
      "cell_type": "markdown",
      "source": [
        "# Code Your Neural Network By Hand!"
      ],
      "metadata": {
        "id": "pV7JgHlbui1P"
      }
    },
    {
      "cell_type": "markdown",
      "source": [
        "You will code a little neural network from scratch! Don’t worry, it will be extremely guided. The two most important points being that you learn and you have fun.  \n",
        "\n",
        "We want our neural network to solve the XOR problem. This is how the data look like:"
      ],
      "metadata": {
        "id": "F87IvNvTupki"
      }
    },
    {
      "cell_type": "markdown",
      "source": [
        "![a03_data.png](data:image/png;base64,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)"
      ],
      "metadata": {
        "id": "ubYvIjUju9GZ"
      }
    },
    {
      "cell_type": "markdown",
      "source": [
        "## 0. Setup \n",
        "The following is given :-) "
      ],
      "metadata": {
        "id": "HWmRXftWvaPF"
      }
    },
    {
      "cell_type": "code",
      "execution_count": null,
      "metadata": {
        "id": "z5gnbuIsuhP5"
      },
      "outputs": [],
      "source": [
        "import numpy as np\n",
        "import pandas as pd\n",
        "import random\n",
        "import math\n",
        "np.random.seed(42)\n",
        "\n",
        "import matplotlib.pyplot as plt\n",
        "FONTSIZE = 16\n",
        "params = {\n",
        "         'figure.figsize' : (6,6),\n",
        "         'axes.labelsize' : FONTSIZE,\n",
        "         'axes.titlesize' : FONTSIZE+2,\n",
        "         'legend.fontsize': FONTSIZE,\n",
        "         'xtick.labelsize': FONTSIZE,\n",
        "         'ytick.labelsize': FONTSIZE,\n",
        "         'xtick.color'    : 'black',\n",
        "         'ytick.color'    : 'black',\n",
        "         'axes.facecolor' : 'white',\n",
        "         'axes.edgecolor' : 'black',\n",
        "         'axes.titlepad'  :  20,\n",
        "         'axes.labelpad'  :  10}\n",
        "plt.rcParams.update(params)\n",
        "\n",
        "XNAME = 'x1'; XLABEL = r'$x_1$'\n",
        "YNAME = 'x2'; YLABEL = r'$x_2$'\n",
        "RANGE = (-6, 6); STEP = 0.1\n",
        "\n",
        "def predict(output_node, boundary_value):\n",
        "  output_node.reshape(-1, 1, 1) # a list (m, 1, 1)\n",
        "  predictions = np.array(output_node > boundary_value, dtype=int)\n",
        "  return predictions\n",
        "\n",
        "def plot_cost_vs_iter(train_costs, test_costs, title=\"Cost evolution\"):\n",
        "\n",
        "  fig, ax = plt.subplots(figsize=(8, 6))\n",
        "  iters = np.arange(1,len(train_costs)+1)\n",
        "  ax.plot(iters, train_costs, color='red', lw=1, label='Training set')\n",
        "  ax.plot(iters, test_costs, color='blue', lw=1, label='Testing set')\n",
        "  ax.set_xlabel(\"Number of iterations\"); ax.set_xlim(1, iters[-1])\n",
        "  ax.set_ylabel(\"Cost\")\n",
        "  ax.legend(loc=\"upper right\", frameon=False)\n",
        "  ax.set_title(title)\n",
        "  plt.show()\n",
        "\n",
        "\n",
        "def get_decision_surface(weights, biases, boundary=0.5, range=RANGE, step=STEP):\n",
        "\n",
        "  # Create a grid of points spanning the parameter space:\n",
        "  x1v, x2v = np.meshgrid(np.arange(range[0], range[1]+step, step),\n",
        "                         np.arange(range[0], range[1]+step, step))\n",
        "  \n",
        "  # Stack it so that it is shaped like X_train: (m,2)\n",
        "  X_grid = np.c_[x1v.ravel(), x2v.ravel()].reshape(-1,2)\n",
        "\n",
        "  # Feedforward on all grid points and get binary predictions:\n",
        "  output = feedforward(X_grid, weights, biases)[-1] # getting only output node\n",
        "  Ypred_grid = predict(output, boundary)\n",
        "\n",
        "  return (x1v, x2v, Ypred_grid.reshape(x1v.shape))\n",
        "\n",
        "\n",
        "def plot_scatter(sig, bkg, ds=None, xname=XNAME, xlabel=XLABEL, yname=YNAME, ylabel=YLABEL, range=RANGE, step=STEP, title=\"Scatter plot\"):\n",
        "\n",
        "  fig, ax = plt.subplots()\n",
        "\n",
        "  # Decision surface\n",
        "  if ds:\n",
        "    (xx, yy, Z) = ds # unpack contour data\n",
        "    cs = plt.contourf(xx, yy, Z, levels=[0,0.5,1], colors=['orange','dodgerblue'], alpha=0.3)\n",
        "\n",
        "  # Scatter signal and background:\n",
        "  ax.scatter(sig[xname], sig[yname], marker='o', s=10, c='dodgerblue', alpha=1, label='Positive class')\n",
        "  ax.scatter(bkg[xname], bkg[yname], marker='o', s=10, c='orange',     alpha=1, label='Negative class')\n",
        "\n",
        "  # Axes, legend and plot:\n",
        "  ax.set_xlim(range); ax.set_xlabel(xlabel)\n",
        "  ax.set_ylim(range); ax.set_ylabel(ylabel)\n",
        "\n",
        "  ax.legend(bbox_to_anchor=(1.04, 0.5), loc=\"center left\", frameon=False) \n",
        "  ax.set_title(title)\n",
        "  plt.show()"
      ]
    },
    {
      "cell_type": "markdown",
      "source": [
        "## 1. Get the data\n"
      ],
      "metadata": {
        "id": "Dp0HG9xNv1yJ"
      }
    },
    {
      "cell_type": "markdown",
      "source": [
        "### Mount GDrive\n",
        "We will retrieve the files of [this folder](https://drive.google.com/drive/folders/1qJaNCiZ6FTOltLuOoMU1sZWmNtgbxlcN?usp=sharing) and read them into panda dataframes `train` and `test`.\n",
        "\n",
        "First go to the shared folder, right click on the `.csv` file and select “Add shortcut to Drive.”  This will allow you to access the folder from your Gdrive! Then in your Colaboratory tab, write and execute the following lines:"
      ],
      "metadata": {
        "id": "AUuzwBStwzOQ"
      }
    },
    {
      "cell_type": "code",
      "source": [
        "from google.colab import drive\n",
        "drive.mount('/content/gdrive')"
      ],
      "metadata": {
        "colab": {
          "base_uri": "https://localhost:8080/"
        },
        "id": "w4fM4REiulYl",
        "outputId": "cf07a322-98d1-440b-b5ab-f3d8be4a6931"
      },
      "execution_count": null,
      "outputs": [
        {
          "output_type": "stream",
          "name": "stdout",
          "text": [
            "Mounted at /content/gdrive\n"
          ]
        }
      ]
    },
    {
      "cell_type": "markdown",
      "source": [
        "### Localizing the file\n",
        "In Jupyter Notebook, it is possible to write bash commands (the language used in a console, or terminal) by appending a ! at front of a code cell.\n",
        "\n",
        "The pwd command stands for “print working directory” and will show you were you are currently running your code. \n",
        "\n",
        "To list files, use the ls command of ls -l to display more details.\n"
      ],
      "metadata": {
        "id": "Re13dnWdxLQ0"
      }
    },
    {
      "cell_type": "code",
      "source": [
        "!ls -l"
      ],
      "metadata": {
        "colab": {
          "base_uri": "https://localhost:8080/"
        },
        "id": "JU23JsxzwfC3",
        "outputId": "2b93b85b-a0b6-412d-8990-ec7ca8c89d01"
      },
      "execution_count": null,
      "outputs": [
        {
          "output_type": "stream",
          "name": "stdout",
          "text": [
            "total 8\n",
            "drwx------ 6 root root 4096 Mar 27 19:50 gdrive\n",
            "drwxr-xr-x 1 root root 4096 Mar 24 13:39 sample_data\n"
          ]
        }
      ]
    },
    {
      "cell_type": "markdown",
      "source": [
        "### Exploring the file\n",
        "The path below my be different in your Gdrive, so updated it accordingly!\n",
        "\n",
        "Let's use the following command to display the first 5 rows of the data file:"
      ],
      "metadata": {
        "id": "E4z8OefFxcKr"
      }
    },
    {
      "cell_type": "code",
      "source": [
        "!head -n 5 gdrive/MyDrive/ml_a3_data_train.csv"
      ],
      "metadata": {
        "colab": {
          "base_uri": "https://localhost:8080/"
        },
        "id": "LuGsXjojyB5A",
        "outputId": "230a7958-9dd6-449c-fdb6-2f3265c83518"
      },
      "execution_count": null,
      "outputs": [
        {
          "output_type": "stream",
          "name": "stdout",
          "text": [
            "x1,x2,class\n",
            "-0.136281715144011,3.244889013693518,0\n",
            "-5.305887881239244,5.6292315616897355,0\n",
            "-4.147647416709573,-0.22631877774218978,1\n",
            "-2.1707943210809324,3.9469856898081286,0\n"
          ]
        }
      ]
    },
    {
      "cell_type": "markdown",
      "source": [
        "To see how many lines your file has, use the “word count” command `wc` with the `-l` option for line:"
      ],
      "metadata": {
        "id": "Pu_Tlip7yXNZ"
      }
    },
    {
      "cell_type": "code",
      "source": [
        "! wc -l gdrive/MyDrive/ml_a3_data_train.csv"
      ],
      "metadata": {
        "colab": {
          "base_uri": "https://localhost:8080/"
        },
        "id": "BfDYRTI-xZAf",
        "outputId": "7e2c10de-1e1e-41bb-8177-4ee8694645c4"
      },
      "execution_count": null,
      "outputs": [
        {
          "output_type": "stream",
          "name": "stdout",
          "text": [
            "321 gdrive/MyDrive/ml_a3_data_train.csv\n"
          ]
        }
      ]
    },
    {
      "cell_type": "markdown",
      "source": [
        "This is useful to know which amount of data we are dealing with.\n",
        "And we also see the file has a header row. Let’s now load its content in a pythonic way."
      ],
      "metadata": {
        "id": "cmHSltheymfB"
      }
    },
    {
      "cell_type": "markdown",
      "source": [
        "### From csv to dataframe\n",
        "A dataframe is a data structure from the pandas software library designed for tabular data. It can be compared to an array with rows and columns that can be modified in an intuitive way for the programmer. Pandas allows importing data from various file formats. There is a special method for loading the content from a `.csv` file:"
      ],
      "metadata": {
        "id": "oORyWBvSynqT"
      }
    },
    {
      "cell_type": "code",
      "source": [
        "path = \"gdrive/MyDrive/\"\n",
        "train = pd.read_csv(path + \"ml_a3_data_train.csv\")\n",
        "test  = pd.read_csv(path + \"ml_a3_data_test.csv\")"
      ],
      "metadata": {
        "id": "FuPAbHrax4sm"
      },
      "execution_count": null,
      "outputs": []
    },
    {
      "cell_type": "markdown",
      "source": [
        "## Explore the data"
      ],
      "metadata": {
        "id": "K1v8XId0zPCd"
      }
    },
    {
      "cell_type": "markdown",
      "source": [
        "We can show the first rows this way:"
      ],
      "metadata": {
        "id": "Hw4GYuPKy_0D"
      }
    },
    {
      "cell_type": "code",
      "source": [
        "train[:3]"
      ],
      "metadata": {
        "colab": {
          "base_uri": "https://localhost:8080/",
          "height": 143
        },
        "id": "PlDml1XNy_AY",
        "outputId": "d91392f8-9cf2-4a59-802b-5641bf63717f"
      },
      "execution_count": null,
      "outputs": [
        {
          "output_type": "execute_result",
          "data": {
            "text/plain": [
              "         x1        x2  class\n",
              "0 -0.136282  3.244889      0\n",
              "1 -5.305888  5.629232      0\n",
              "2 -4.147647 -0.226319      1"
            ],
            "text/html": [
              "\n",
              "  <div id=\"df-0bb4be01-28bd-4cac-9c78-82b26c65e3dd\">\n",
              "    <div class=\"colab-df-container\">\n",
              "      <div>\n",
              "<style scoped>\n",
              "    .dataframe tbody tr th:only-of-type {\n",
              "        vertical-align: middle;\n",
              "    }\n",
              "\n",
              "    .dataframe tbody tr th {\n",
              "        vertical-align: top;\n",
              "    }\n",
              "\n",
              "    .dataframe thead th {\n",
              "        text-align: right;\n",
              "    }\n",
              "</style>\n",
              "<table border=\"1\" class=\"dataframe\">\n",
              "  <thead>\n",
              "    <tr style=\"text-align: right;\">\n",
              "      <th></th>\n",
              "      <th>x1</th>\n",
              "      <th>x2</th>\n",
              "      <th>class</th>\n",
              "    </tr>\n",
              "  </thead>\n",
              "  <tbody>\n",
              "    <tr>\n",
              "      <th>0</th>\n",
              "      <td>-0.136282</td>\n",
              "      <td>3.244889</td>\n",
              "      <td>0</td>\n",
              "    </tr>\n",
              "    <tr>\n",
              "      <th>1</th>\n",
              "      <td>-5.305888</td>\n",
              "      <td>5.629232</td>\n",
              "      <td>0</td>\n",
              "    </tr>\n",
              "    <tr>\n",
              "      <th>2</th>\n",
              "      <td>-4.147647</td>\n",
              "      <td>-0.226319</td>\n",
              "      <td>1</td>\n",
              "    </tr>\n",
              "  </tbody>\n",
              "</table>\n",
              "</div>\n",
              "      <button class=\"colab-df-convert\" onclick=\"convertToInteractive('df-0bb4be01-28bd-4cac-9c78-82b26c65e3dd')\"\n",
              "              title=\"Convert this dataframe to an interactive table.\"\n",
              "              style=\"display:none;\">\n",
              "        \n",
              "  <svg xmlns=\"http://www.w3.org/2000/svg\" height=\"24px\"viewBox=\"0 0 24 24\"\n",
              "       width=\"24px\">\n",
              "    <path d=\"M0 0h24v24H0V0z\" fill=\"none\"/>\n",
              "    <path d=\"M18.56 5.44l.94 2.06.94-2.06 2.06-.94-2.06-.94-.94-2.06-.94 2.06-2.06.94zm-11 1L8.5 8.5l.94-2.06 2.06-.94-2.06-.94L8.5 2.5l-.94 2.06-2.06.94zm10 10l.94 2.06.94-2.06 2.06-.94-2.06-.94-.94-2.06-.94 2.06-2.06.94z\"/><path d=\"M17.41 7.96l-1.37-1.37c-.4-.4-.92-.59-1.43-.59-.52 0-1.04.2-1.43.59L10.3 9.45l-7.72 7.72c-.78.78-.78 2.05 0 2.83L4 21.41c.39.39.9.59 1.41.59.51 0 1.02-.2 1.41-.59l7.78-7.78 2.81-2.81c.8-.78.8-2.07 0-2.86zM5.41 20L4 18.59l7.72-7.72 1.47 1.35L5.41 20z\"/>\n",
              "  </svg>\n",
              "      </button>\n",
              "      \n",
              "  <style>\n",
              "    .colab-df-container {\n",
              "      display:flex;\n",
              "      flex-wrap:wrap;\n",
              "      gap: 12px;\n",
              "    }\n",
              "\n",
              "    .colab-df-convert {\n",
              "      background-color: #E8F0FE;\n",
              "      border: none;\n",
              "      border-radius: 50%;\n",
              "      cursor: pointer;\n",
              "      display: none;\n",
              "      fill: #1967D2;\n",
              "      height: 32px;\n",
              "      padding: 0 0 0 0;\n",
              "      width: 32px;\n",
              "    }\n",
              "\n",
              "    .colab-df-convert:hover {\n",
              "      background-color: #E2EBFA;\n",
              "      box-shadow: 0px 1px 2px rgba(60, 64, 67, 0.3), 0px 1px 3px 1px rgba(60, 64, 67, 0.15);\n",
              "      fill: #174EA6;\n",
              "    }\n",
              "\n",
              "    [theme=dark] .colab-df-convert {\n",
              "      background-color: #3B4455;\n",
              "      fill: #D2E3FC;\n",
              "    }\n",
              "\n",
              "    [theme=dark] .colab-df-convert:hover {\n",
              "      background-color: #434B5C;\n",
              "      box-shadow: 0px 1px 3px 1px rgba(0, 0, 0, 0.15);\n",
              "      filter: drop-shadow(0px 1px 2px rgba(0, 0, 0, 0.3));\n",
              "      fill: #FFFFFF;\n",
              "    }\n",
              "  </style>\n",
              "\n",
              "      <script>\n",
              "        const buttonEl =\n",
              "          document.querySelector('#df-0bb4be01-28bd-4cac-9c78-82b26c65e3dd button.colab-df-convert');\n",
              "        buttonEl.style.display =\n",
              "          google.colab.kernel.accessAllowed ? 'block' : 'none';\n",
              "\n",
              "        async function convertToInteractive(key) {\n",
              "          const element = document.querySelector('#df-0bb4be01-28bd-4cac-9c78-82b26c65e3dd');\n",
              "          const dataTable =\n",
              "            await google.colab.kernel.invokeFunction('convertToInteractive',\n",
              "                                                     [key], {});\n",
              "          if (!dataTable) return;\n",
              "\n",
              "          const docLinkHtml = 'Like what you see? Visit the ' +\n",
              "            '<a target=\"_blank\" href=https://colab.research.google.com/notebooks/data_table.ipynb>data table notebook</a>'\n",
              "            + ' to learn more about interactive tables.';\n",
              "          element.innerHTML = '';\n",
              "          dataTable['output_type'] = 'display_data';\n",
              "          await google.colab.output.renderOutput(dataTable, element);\n",
              "          const docLink = document.createElement('div');\n",
              "          docLink.innerHTML = docLinkHtml;\n",
              "          element.appendChild(docLink);\n",
              "        }\n",
              "      </script>\n",
              "    </div>\n",
              "  </div>\n",
              "  "
            ]
          },
          "metadata": {},
          "execution_count": 8
        }
      ]
    },
    {
      "cell_type": "markdown",
      "source": [
        "Nice, isn't it? Then it is possible to do something like this:"
      ],
      "metadata": {
        "id": "ITN2DwbizX30"
      }
    },
    {
      "cell_type": "code",
      "source": [
        "print(f\"There are {len(train)} samples in the train set, {len(test)} in the test set.\")"
      ],
      "metadata": {
        "colab": {
          "base_uri": "https://localhost:8080/"
        },
        "id": "gDMK5SvxzDjx",
        "outputId": "2c7a5f3e-929b-4f9d-e9a3-598b2c1a6f20"
      },
      "execution_count": null,
      "outputs": [
        {
          "output_type": "stream",
          "name": "stdout",
          "text": [
            "There are 320 samples in the train set, 80 in the test set.\n"
          ]
        }
      ]
    },
    {
      "cell_type": "markdown",
      "source": [
        "## Prepare the data"
      ],
      "metadata": {
        "id": "oO5KmgHHzeZ8"
      }
    },
    {
      "cell_type": "markdown",
      "source": [
        "### Split signal vs background\n",
        "The class is indicated by the \"class\" column. By convention we will consider the signal as `class==1` and the background the one for `class==0`. This command will split the train samples into two dataframes: those with targets (real observation) signal and those with targets background:"
      ],
      "metadata": {
        "id": "QTayEYr8zboG"
      }
    },
    {
      "cell_type": "code",
      "source": [
        "sig = train[train['class'] > 0.5]\n",
        "bkg = train[train['class'] < 0.5]"
      ],
      "metadata": {
        "id": "q7wpgD3mzH-d"
      },
      "execution_count": null,
      "outputs": []
    },
    {
      "cell_type": "markdown",
      "source": [
        "### From dataframe to NumPy arrays\n",
        "Let’s now store each column into a python list, as it will be handy for plotting and coding our regressor. Python has lists but we will use a more advanced object from the NumPy library, which is efficiently coded to perform mathematical operations on multi-dimensional arrays and matrices. This will store each column as a `NumPy` array:"
      ],
      "metadata": {
        "id": "2FC1hZtw01gM"
      }
    },
    {
      "cell_type": "code",
      "source": [
        "inputs = ['x1', 'x2']\n",
        "X_train = train[inputs].to_numpy()\n",
        "y_train = train['class'].to_numpy()\n",
        "\n",
        "X_test = test[inputs].to_numpy()\n",
        "y_test = test['class'].to_numpy()"
      ],
      "metadata": {
        "id": "uG4jH6-jz5DU"
      },
      "execution_count": null,
      "outputs": []
    },
    {
      "cell_type": "markdown",
      "source": [
        "## Plot yourself the data!\n",
        "Now your turn, call the function `plot_scatter` to plot the data!"
      ],
      "metadata": {
        "id": "UkDu1ZSc2g6O"
      }
    },
    {
      "cell_type": "code",
      "source": [
        "plot_scatter(sig, bkg, title=\"The cute data\")"
      ],
      "metadata": {
        "colab": {
          "base_uri": "https://localhost:8080/",
          "height": 439
        },
        "id": "bEm8GP5rJaY6",
        "outputId": "c7680647-8b24-4ad2-f05c-38017e828075"
      },
      "execution_count": null,
      "outputs": [
        {
          "output_type": "display_data",
          "data": {
            "text/plain": [
              "<Figure size 432x432 with 1 Axes>"
            ],
            "image/png": "[encoded data removed]"
          },
          "metadata": {
            "needs_background": "light"
          }
        }
      ]
    },
    {
      "cell_type": "markdown",
      "source": [
        "## Functions\n",
        "Let's compute the functions we saw in the lecture. Create a code cell below for each function, copy paste the provided template and fill in the blanks!\n",
        "\n",
        "__Weighted Sum__  \n",
        "Write a function `z` that compute the weighted sum of a given activation unit. You do not have to worry about the dimensions of objects here, this will come later. Make sure the names of the arguments are self-explanatory. \n",
        "\n",
        "The function will look like:\n",
        "```python\n",
        "   def z( ... , ... , ... ):\n",
        "     # ...\n",
        "     return #...\n",
        "```\n",
        "\n",
        "__Activation Functions and Derivatives__  \n",
        " Write the hyperbolic tan and sigmoid activation functions, followed by their derivatives. It will be of the form:\n",
        "\n",
        "```python\n",
        "  def tanh(z):\n",
        "    return #... \n",
        "\n",
        "  def sigmoid(z):\n",
        "    return #... \n",
        "\n",
        "  def sigmoid_prime(z):\n",
        "    return #... \n",
        "\n",
        "  def tanh_prime(z):\n",
        "    return #...\n",
        "```\n"
      ],
      "metadata": {
        "id": "1hA8p6BA2rwj"
      }
    },
    {
      "cell_type": "code",
      "source": [
        "def z( a_Lminus1 , W , b ):\n",
        "  return a_Lminus1 @ W + b\n",
        "\n",
        "def sigmoid(z):\n",
        "  return 1/(1 + np.exp(-z))\n",
        "\n",
        "def sigmoid_prime(z):\n",
        "  return sigmoid(z)*(1 - sigmoid(z))\n",
        "\n",
        "def tanh(z):\n",
        "  return np.tanh(z)\n",
        "\n",
        "def tanh_prime(z):\n",
        "  return 1 - np.tanh(z)**2"
      ],
      "metadata": {
        "id": "Hved6M38J7rY"
      },
      "execution_count": null,
      "outputs": []
    },
    {
      "cell_type": "markdown",
      "source": [
        "__Loss function__  \n",
        "The loss function for classification is defined as:  \n",
        "\n",
        "\\begin{equation}\n",
        "L\\left( \\hat{y}^{(i)}, y^{(i)}\\right) = - \\left[ \\;\\; y^{(i)} \\log\\left( \\hat{y}^{(i)} \\right) \\;\\;+\\;\\; \\left(1- y^{(i)}\\right) \\log\\left( 1 - \\hat{y}^{(i)} \\right) \\;\\;\\right]\n",
        "\\end{equation}\n",
        "\n",
        "It's derivative is of the form:\n",
        "\\begin{equation}\n",
        "\\frac{\\mathrm{d} }{\\mathrm{d} \\hat{y}^{(i)}} L\\left( \\hat{y}^{(i)}, y^{(i)}\\right) = - \\frac{y^{(i)}}{\\hat{y}^{(i)}} + \\frac{1 - y^{(i)}}{1 - \\hat{y}^{(i)}}\n",
        "\\end{equation}\n",
        "\n",
        "Write it in python:\n",
        "```python\n",
        "def L_prime(y_preds, y_obs):\n",
        "    return #...\n",
        "```\n",
        "\n",
        "Note: this function will return a __NumPy array of losses__. "
      ],
      "metadata": {
        "id": "MIlG29kb5IuB"
      }
    },
    {
      "cell_type": "code",
      "source": [
        "def L_prime(y_preds, y_obss):\n",
        "  epsilon = 1e-9 # to avoid issues with division by zero \n",
        "  return -y_obss/(y_preds + epsilon) + (1 - y_obss)/(1 - y_preds + epsilon)"
      ],
      "metadata": {
        "id": "tKkVZ210NAWD"
      },
      "execution_count": null,
      "outputs": []
    },
    {
      "cell_type": "markdown",
      "source": [
        "\n",
        "__Cross-entropy cost function__  \n",
        "Write the cross-entropy cost function: \n",
        "\\begin{equation}\n",
        "\\text{Cost} = - \\frac{1}{m} \\sum^m_{i=1} \\left[ \\;\\; y^{(i)} \\log( h(x^{(i)} )) \\;\\;+\\;\\; (1- y^{(i)}) \\log( 1 - h(x^{(i)} )) \\;\\;\\right]\n",
        "\\end{equation}\n",
        "\n",
        "As I don't know your previous exposure to python, feel free to ask me for help!\n",
        "\n",
        "```python\n",
        "def cross_entropy_cost(y_preds, y_vals):\n",
        "  #...\n",
        "  return #...\n",
        "```\n",
        "Note: this function shall return a scalar (sum over the losses)."
      ],
      "metadata": {
        "id": "jXOd78Gg9Lwf"
      }
    },
    {
      "cell_type": "code",
      "source": [
        "def cross_entropy_cost(y_preds, y_vals):\n",
        "  m = len(y_vals)\n",
        "  epsilon = 1e-9 # to avoid issues with log(zero) \n",
        "  summand = y_vals*np.log(y_preds + epsilon) + (1-y_vals)*np.log(1 - y_preds + epsilon)\n",
        "  return -(1/m) * summand.sum()"
      ],
      "metadata": {
        "id": "ebG-1krZOy3w"
      },
      "execution_count": null,
      "outputs": []
    },
    {
      "cell_type": "markdown",
      "source": [
        "## Feedforward Propagation\n",
        "\n",
        "It is time to write the feedforward function! Some information about the network:\n",
        "* The network has two hidden layers \n",
        "* The nodes of the hidden layers use the hyperbolic tangent as activation function\n",
        "* The output layer uses the sigmoid function \n",
        "\n",
        " \n",
        "We do not have to know the number of activation units in each layer as the code here is made to be general. The weights and biases are given as input, stored in lists. Again, you do not have to worry about the indices yet (and I have simplified it by reshaping the input data for you). \n",
        "\n",
        "Complete the function below that does the feedforward propagation of the network, using the equations shown in class. Look at the output to see how to name your variables!"
      ],
      "metadata": {
        "id": "bfj3rWHn9hQ5"
      }
    },
    {
      "cell_type": "code",
      "source": [
        "def feedforward(input_X, weights, biases):\n",
        "\n",
        "  W1, W2, W3 = weights ; b1, b2, b3 = biases\n",
        "\n",
        "  m  = len(input_X) \n",
        "  a0 = input_X.reshape((m, 1, -1))\n",
        "\n",
        "  # First layer\n",
        "  z1 = z(a0, W1, b1)\n",
        "  a1 = tanh(z1)\n",
        "\n",
        "  # Second layer\n",
        "  z2 = z(a1, W2, b2)\n",
        "  a2 = tanh(z2)\n",
        "\n",
        "  # Third layer\n",
        "  z3 = z(a2, W3, b3)\n",
        "  a3 = sigmoid(z3)\n",
        "  \n",
        "  nodes = [a0, z1, a1, z2, a2, z3, a3]\n",
        "\n",
        "  return nodes\n"
      ],
      "metadata": {
        "id": "Xx6ooXri2f87"
      },
      "execution_count": null,
      "outputs": []
    },
    {
      "cell_type": "markdown",
      "source": [
        "## Predict function\n",
        "It will be handy to have a function making predictions. It is part of the setup. Have a look and try to understand how it works. \n",
        "\n",
        "* What type of values does the function `predict` return? \n",
        "* What is the `output_node` in the context of our 2-hidden-layered neural network? \n",
        "* After successfully executing the `feedforward` function, how would you call the function `predict`?\n"
      ],
      "metadata": {
        "id": "wbRk23CY99Yr"
      }
    },
    {
      "cell_type": "markdown",
      "source": [
        "## Neural Network Training\n",
        "The core of the artificial brain! The code below is a skeleton. You will have to complete it. To help you further, hyperparameters are given. You should replace the `#...` with your own code."
      ],
      "metadata": {
        "id": "iT_C-D1X_rDf"
      }
    },
    {
      "cell_type": "code",
      "source": [
        "# Hyperparameters\n",
        "alpha = 0.03\n",
        "N = 300 # epochs\n",
        "\n",
        "# Initialization \n",
        "m = len(X_train)     # number of data samples\n",
        "n = X_train.shape[1] # number of input features\n",
        "q = 3 # number of nodes in first hidden layer\n",
        "r = 2 # number of nodes in second hidden layer\n",
        "\n",
        "# WEIGHT MATRICES + BIASES\n",
        "W1 = np.random.random(( n, q ))\n",
        "W2 = np.random.random(( q, r ))\n",
        "W3 = np.random.random(( r, 1 ))\n",
        "b1 = np.random.random(( 1, q ))\n",
        "b2 = np.random.random(( 1, r ))\n",
        "b3 = np.random.random(( 1, 1 ))\n",
        "\n",
        "# OUTPUT LAYER\n",
        "y_train = np.reshape(y_train, (-1, 1, 1))\n",
        "y_test  = np.reshape(y_test , (-1, 1, 1))\n",
        "\n",
        "# Storing cost values for train and test datasets\n",
        "costs_train = []\n",
        "costs_test  = []\n",
        "debug = False\n",
        "\n",
        "print(\"Starting the training\\n\")\n",
        "\n",
        "# -------------------\n",
        "#   Start iterations\n",
        "# -------------------\n",
        "for t in range(1, N+1):\n",
        "\n",
        "  # FORWARD PROPAGATION\n",
        "  # Feedforward on test data:\n",
        "  nodes_test =  feedforward(X_test, [W1, W2, W3], [b1, b2, b3])\n",
        "  ypreds_test =  nodes_test[-1] # returns a3\n",
        "\n",
        "  # Feedforward on train data:\n",
        "  a0, z1, a1, z2, a2, z3, a3 = feedforward(X_train, [W1, W2, W3], [b1, b2, b3])\n",
        "  ypreds_train = a3\n",
        "\n",
        "  # Cost computation and storage\n",
        "  J_train = cross_entropy_cost(ypreds_train, y_train)\n",
        "  J_test  = cross_entropy_cost(ypreds_test,  y_test )\n",
        "  costs_train.append(J_train)\n",
        "  costs_test.append(J_test)\n",
        "\n",
        "  if (t<=100 and t % 10 == 0) or (t>100 and t % 100 == 0):\n",
        "      print(f\"Iteration {t}\\t Train cost = {J_train:.4f}  Test cost = {J_test:.4f}   Diff = {J_test-J_train:.5f}\")\n",
        "\n",
        "  # BACKWARD PROPAGATION\n",
        "  # Errors delta:\n",
        "  delta_3 = L_prime(a3, y_train)*sigmoid_prime(z3)\n",
        "  delta_2 = (delta_3@(W3.T))*tanh_prime(z2)\n",
        "  delta_1 = (delta_2@(W2.T))*tanh_prime(z1)\n",
        "  \n",
        "  # Partial derivatives:\n",
        "  dCostdW3 = np.sum( np.transpose(a2, (0, 2, 1))@delta_3, axis=0 )\n",
        "  dCostdW2 = np.sum( np.transpose(a1, (0, 2, 1))@delta_2, axis=0 )\n",
        "  dCostdW1 = np.sum( np.transpose(a0, (0, 2, 1))@delta_1, axis=0 )\n",
        "  dCostdb3 = np.sum(delta_3, axis=0)\n",
        "  dCostdb2 = np.sum(delta_2, axis=0)\n",
        "  dCostdb1 = np.sum(delta_1, axis=0)\n",
        "\n",
        "  if debug and t<3:\n",
        "    print(f\"a0: {a0.shape} a1: {a1.shape} a2: {a2.shape} a3: {a3.shape} \")\n",
        "    print(f\"W3: {W3.shape} z1: {z1.shape} z2: {z2.shape} z3: {z3.shape} \")\n",
        "    print(f\"dCostdW3: {dCostdW3.shape} dCostdW2: {dCostdW2.shape} dCostdW1: {dCostdW1.shape}\") \n",
        "\n",
        "  # Update of weights and biases\n",
        "  W3 = W3 - alpha * dCostdW3\n",
        "  W2 = W2 - alpha * dCostdW2\n",
        "  W1 = W1 - alpha * dCostdW1\n",
        "  b3 = b3 - alpha * dCostdb3 \n",
        "  b2 = b2 - alpha * dCostdb2\n",
        "  b1 = b1 - alpha * dCostdb1\n",
        "\n",
        "print(f'\\nEnd of gradient descent after {t} iterations')"
      ],
      "metadata": {
        "id": "sb8CKbyS-Ley",
        "colab": {
          "base_uri": "https://localhost:8080/"
        },
        "outputId": "c5b2e5f7-c744-4aaa-9ac3-50abaa639793"
      },
      "execution_count": null,
      "outputs": [
        {
          "output_type": "stream",
          "name": "stdout",
          "text": [
            "Starting the training\n",
            "\n",
            "Iteration 10\t Train cost = 1.3041  Test cost = 1.0210   Diff = -0.28316\n",
            "Iteration 20\t Train cost = 0.1217  Test cost = 0.0695   Diff = -0.05221\n",
            "Iteration 30\t Train cost = 0.0288  Test cost = 0.0270   Diff = -0.00182\n",
            "Iteration 40\t Train cost = 0.0139  Test cost = 0.0146   Diff = 0.00072\n",
            "Iteration 50\t Train cost = 0.0096  Test cost = 0.0101   Diff = 0.00051\n",
            "Iteration 60\t Train cost = 0.0073  Test cost = 0.0077   Diff = 0.00039\n",
            "Iteration 70\t Train cost = 0.0059  Test cost = 0.0063   Diff = 0.00032\n",
            "Iteration 80\t Train cost = 0.0050  Test cost = 0.0053   Diff = 0.00026\n",
            "Iteration 90\t Train cost = 0.0043  Test cost = 0.0045   Diff = 0.00023\n",
            "Iteration 100\t Train cost = 0.0038  Test cost = 0.0040   Diff = 0.00020\n",
            "Iteration 200\t Train cost = 0.0017  Test cost = 0.0018   Diff = 0.00009\n",
            "Iteration 300\t Train cost = 0.0011  Test cost = 0.0012   Diff = 0.00006\n",
            "\n",
            "End of gradient descent after 300 iterations\n"
          ]
        }
      ]
    },
    {
      "cell_type": "markdown",
      "source": [
        "### Some Helpers\n",
        "\n",
        "__Hints on weight initialization__  \n",
        "\n",
        "The weight matrices and bias vectors can be simply initialized with a random number between 0 and 1. Use:\n",
        "```python\n",
        "an_i_by_j_matrix = np.random.random(( i , j ))\n",
        "```\n",
        "The double parenthesis is important to get the correct shape. To make your code modular, use the variables encoding the number of activation nodes on the first and second hidden layers (it's in the provided skeleton-code!).\n",
        "\n",
        "__Feedforward and predict__  \n",
        "* To return the last element of a list: `my_list[-1]`\n",
        "\n",
        "__Dimension of Nodes__  \n",
        "At the end of the lecture, we had equations written with indices. In python, we will use 3D NumPy arrays of shape ($i$, $j$, $k$), with \n",
        "* $i$ the sample index\n",
        "* $j$ the number of rows of the node vector\n",
        "* $k$ the number of columns\n",
        "\n",
        "__Matrix/Vector Operations__  \n",
        "* In python the matrix multiplication is done using `@`\n",
        "* The element-wise multiplication is done using `*`\n",
        "\n",
        "__Transpose__  \n",
        "* To transpose a matrix M: `M.T` \n",
        "* To transpose 3D arrays, the indices to reorder are indicated as argument: `np.transpose(my3Darray, (0, 2, 1))` will transpose the two last dimensions.\n",
        "\n",
        "__Summing__  \n",
        "* To sum a 3D array on the first index: `np.sum(my3Darray, axis=0)`"
      ],
      "metadata": {
        "id": "hOuKfH-l_9AX"
      }
    },
    {
      "cell_type": "markdown",
      "source": [
        "## Plots\n",
        "\n",
        "### Cost evolution\n",
        " Call the provided function to plot the cost evolution of both the training and testing sets."
      ],
      "metadata": {
        "id": "TTI7jMk0AcnA"
      }
    },
    {
      "cell_type": "code",
      "source": [
        "plot_cost_vs_iter(costs_train, costs_test)"
      ],
      "metadata": {
        "colab": {
          "base_uri": "https://localhost:8080/",
          "height": 438
        },
        "id": "3qsrgFtYepGl",
        "outputId": "766df951-ea42-4d97-f9a5-1bcab5b9e0e4"
      },
      "execution_count": null,
      "outputs": [
        {
          "output_type": "display_data",
          "data": {
            "text/plain": [
              "<Figure size 576x432 with 1 Axes>"
            ],
            "image/png": "[encoded data removed]"
          },
          "metadata": {
            "needs_background": "light"
          }
        }
      ]
    },
    {
      "cell_type": "markdown",
      "source": [
        "### Scatter Plot\n",
        "Use the get_decision_surface and plot_scatter functions to visualize the decision boundaries of your trained neural network. Did your neural network successfully learn the XOR function?"
      ],
      "metadata": {
        "id": "4OD7fmUmAg6t"
      }
    },
    {
      "cell_type": "code",
      "source": [
        "plot_scatter(sig, bkg, \n",
        "             ds=get_decision_surface([W1, W2, W3],[b1, b2, b3]), \n",
        "             title=\"Neural Network 2 Hidden Layers\")"
      ],
      "metadata": {
        "colab": {
          "base_uri": "https://localhost:8080/",
          "height": 439
        },
        "id": "GoULAwOGfAZ8",
        "outputId": "b9d45abf-e9c8-464b-fdd3-193e1cc7e833"
      },
      "execution_count": null,
      "outputs": [
        {
          "output_type": "display_data",
          "data": {
            "text/plain": [
              "<Figure size 432x432 with 1 Axes>"
            ],
            "image/png": "[encoded data removed]"
          },
          "metadata": {
            "needs_background": "light"
          }
        }
      ]
    },
    {
      "cell_type": "markdown",
      "source": [
        "The neural network has learned the XOR pattern!\n",
        "\n",
        "This conclude this first endeavour for today, but I hope it will be the start of a long journey of exploration for you! Machine Learning is fascinating and incredibly vast, not to mention the recent boom in the past decade.\n",
        "\n",
        "I wish you a lot of joy while discovering more advanced algorithms.\n",
        "\n",
        "Happy to stay in touch, provide resources and hear from your future activities using Artificial Intelligence!"
      ],
      "metadata": {
        "id": "gt8zljwFA1v4"
      }
    }
  ]
}